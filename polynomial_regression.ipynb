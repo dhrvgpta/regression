{
 "cells": [
  {
   "cell_type": "code",
   "execution_count": 44,
   "id": "d4fb5e8f",
   "metadata": {},
   "outputs": [],
   "source": [
    "import pandas, numpy, warnings, matplotlib.pyplot as plot\n",
    "from sklearn.model_selection import KFold, cross_val_score, train_test_split\n",
    "from sklearn.linear_model import SGDRegressor\n",
    "from sklearn.pipeline import Pipeline\n",
    "from sklearn.impute import SimpleImputer\n",
    "from sklearn.preprocessing import StandardScaler, PolynomialFeatures\n",
    "from sklearn.metrics import root_mean_squared_error\n",
    "from sklearn.linear_model import Ridge\n",
    "\n",
    "random_state = 42\n",
    "numpy.random.seed(random_state) \n",
    "label_name = 'Life ladder'\n",
    "pandas.options.display.float_format = '{:.4f}'.format\n",
    "warnings.filterwarnings('ignore')\n",
    "\n",
    "training_data = pandas.read_csv('data/train.csv')\n",
    "testing_data = pandas.read_csv('data/test.csv')\n",
    "\n",
    "preprocessing_pipeline = Pipeline([\n",
    "    ('imputer', SimpleImputer(strategy='median')), \n",
    "    ('scaler', StandardScaler())               \n",
    "])\n",
    "\n",
    "label_key = 'Life ladder'\n",
    "alphas = [0.001, 0.005, 0.1]\n",
    "eta0s = [0.001, 0.005, 0.01]\n",
    "degrees = [1,2,3,4]\n",
    "penalties = ['l2', 'l1', 'elasticnet']\n",
    "cross_validator  = KFold(n_splits=4, shuffle=True, random_state=random_state)\n"
   ]
  },
  {
   "cell_type": "code",
   "execution_count": 45,
   "id": "d173822f",
   "metadata": {},
   "outputs": [],
   "source": [
    "features_training = training_data.drop(label_name, axis=1)\n",
    "label_training = training_data[label_name]"
   ]
  },
  {
   "cell_type": "markdown",
   "id": "1a1305e6",
   "metadata": {},
   "source": [
    "# **Closed-Form Solution**"
   ]
  },
  {
   "cell_type": "code",
   "execution_count": 46,
   "id": "5aebe8e1",
   "metadata": {},
   "outputs": [
    {
     "name": "stdout",
     "output_type": "stream",
     "text": [
      "RMSE using Ridge (Closed Form): 0.45564558823003676\n"
     ]
    }
   ],
   "source": [
    "ridge_pipeline = Pipeline(\n",
    "    steps = preprocessing_pipeline.steps + [\n",
    "        ('poly', PolynomialFeatures(3, include_bias=False)),\n",
    "        ('model', Ridge(100))\n",
    "    ]\n",
    ")\n",
    "\n",
    "ridge_pipeline.fit(features_training, label_training)\n",
    "\n",
    "print(f'RMSE using Ridge (Closed Form): {root_mean_squared_error(label_training, ridge_pipeline.predict(features_training))}')"
   ]
  },
  {
   "cell_type": "markdown",
   "id": "f4a21f73",
   "metadata": {},
   "source": [
    "# **SGD (Stochastic Gradient Descent) Regressor**"
   ]
  },
  {
   "cell_type": "markdown",
   "id": "d60fa289",
   "metadata": {},
   "source": [
    "## **Optimal Hyperparameters**"
   ]
  },
  {
   "cell_type": "code",
   "execution_count": 47,
   "id": "7a89e612",
   "metadata": {},
   "outputs": [
    {
     "data": {
      "text/html": [
       "<div>\n",
       "<style scoped>\n",
       "    .dataframe tbody tr th:only-of-type {\n",
       "        vertical-align: middle;\n",
       "    }\n",
       "\n",
       "    .dataframe tbody tr th {\n",
       "        vertical-align: top;\n",
       "    }\n",
       "\n",
       "    .dataframe thead th {\n",
       "        text-align: right;\n",
       "    }\n",
       "</style>\n",
       "<table border=\"1\" class=\"dataframe\">\n",
       "  <thead>\n",
       "    <tr style=\"text-align: right;\">\n",
       "      <th></th>\n",
       "      <th>Penalty</th>\n",
       "      <th>Alpha</th>\n",
       "      <th>Learning Rate</th>\n",
       "      <th>Mean RMSE</th>\n",
       "      <th>Standard Deviation of RMSE</th>\n",
       "      <th>Degree</th>\n",
       "    </tr>\n",
       "  </thead>\n",
       "  <tbody>\n",
       "    <tr>\n",
       "      <th>0</th>\n",
       "      <td>l1</td>\n",
       "      <td>0.0050</td>\n",
       "      <td>0.0010</td>\n",
       "      <td>0.5120</td>\n",
       "      <td>0.0268</td>\n",
       "      <td>2</td>\n",
       "    </tr>\n",
       "    <tr>\n",
       "      <th>1</th>\n",
       "      <td>l2</td>\n",
       "      <td>0.1000</td>\n",
       "      <td>0.0010</td>\n",
       "      <td>0.5155</td>\n",
       "      <td>0.0275</td>\n",
       "      <td>2</td>\n",
       "    </tr>\n",
       "    <tr>\n",
       "      <th>2</th>\n",
       "      <td>elasticnet</td>\n",
       "      <td>0.0050</td>\n",
       "      <td>0.0010</td>\n",
       "      <td>0.5178</td>\n",
       "      <td>0.0254</td>\n",
       "      <td>2</td>\n",
       "    </tr>\n",
       "    <tr>\n",
       "      <th>3</th>\n",
       "      <td>l1</td>\n",
       "      <td>0.0010</td>\n",
       "      <td>0.0010</td>\n",
       "      <td>0.5180</td>\n",
       "      <td>0.0254</td>\n",
       "      <td>2</td>\n",
       "    </tr>\n",
       "    <tr>\n",
       "      <th>4</th>\n",
       "      <td>elasticnet</td>\n",
       "      <td>0.1000</td>\n",
       "      <td>0.0050</td>\n",
       "      <td>0.5204</td>\n",
       "      <td>0.0267</td>\n",
       "      <td>2</td>\n",
       "    </tr>\n",
       "    <tr>\n",
       "      <th>...</th>\n",
       "      <td>...</td>\n",
       "      <td>...</td>\n",
       "      <td>...</td>\n",
       "      <td>...</td>\n",
       "      <td>...</td>\n",
       "      <td>...</td>\n",
       "    </tr>\n",
       "    <tr>\n",
       "      <th>103</th>\n",
       "      <td>l1</td>\n",
       "      <td>0.0010</td>\n",
       "      <td>0.0100</td>\n",
       "      <td>131886251943397.8594</td>\n",
       "      <td>33757605240950.2773</td>\n",
       "      <td>4</td>\n",
       "    </tr>\n",
       "    <tr>\n",
       "      <th>104</th>\n",
       "      <td>l2</td>\n",
       "      <td>0.0050</td>\n",
       "      <td>0.0100</td>\n",
       "      <td>134239495598935.8125</td>\n",
       "      <td>56467769110674.8125</td>\n",
       "      <td>4</td>\n",
       "    </tr>\n",
       "    <tr>\n",
       "      <th>105</th>\n",
       "      <td>l2</td>\n",
       "      <td>0.0010</td>\n",
       "      <td>0.0100</td>\n",
       "      <td>142642090027953.7812</td>\n",
       "      <td>20303545449246.2109</td>\n",
       "      <td>4</td>\n",
       "    </tr>\n",
       "    <tr>\n",
       "      <th>106</th>\n",
       "      <td>elasticnet</td>\n",
       "      <td>0.0050</td>\n",
       "      <td>0.0100</td>\n",
       "      <td>149653693133304.7188</td>\n",
       "      <td>36446577157821.0078</td>\n",
       "      <td>4</td>\n",
       "    </tr>\n",
       "    <tr>\n",
       "      <th>107</th>\n",
       "      <td>elasticnet</td>\n",
       "      <td>0.0010</td>\n",
       "      <td>0.0100</td>\n",
       "      <td>167163457225398.5312</td>\n",
       "      <td>46758515931490.2969</td>\n",
       "      <td>4</td>\n",
       "    </tr>\n",
       "  </tbody>\n",
       "</table>\n",
       "<p>108 rows × 6 columns</p>\n",
       "</div>"
      ],
      "text/plain": [
       "        Penalty  Alpha  Learning Rate            Mean RMSE  \\\n",
       "0            l1 0.0050         0.0010               0.5120   \n",
       "1            l2 0.1000         0.0010               0.5155   \n",
       "2    elasticnet 0.0050         0.0010               0.5178   \n",
       "3            l1 0.0010         0.0010               0.5180   \n",
       "4    elasticnet 0.1000         0.0050               0.5204   \n",
       "..          ...    ...            ...                  ...   \n",
       "103          l1 0.0010         0.0100 131886251943397.8594   \n",
       "104          l2 0.0050         0.0100 134239495598935.8125   \n",
       "105          l2 0.0010         0.0100 142642090027953.7812   \n",
       "106  elasticnet 0.0050         0.0100 149653693133304.7188   \n",
       "107  elasticnet 0.0010         0.0100 167163457225398.5312   \n",
       "\n",
       "     Standard Deviation of RMSE  Degree  \n",
       "0                        0.0268       2  \n",
       "1                        0.0275       2  \n",
       "2                        0.0254       2  \n",
       "3                        0.0254       2  \n",
       "4                        0.0267       2  \n",
       "..                          ...     ...  \n",
       "103         33757605240950.2773       4  \n",
       "104         56467769110674.8125       4  \n",
       "105         20303545449246.2109       4  \n",
       "106         36446577157821.0078       4  \n",
       "107         46758515931490.2969       4  \n",
       "\n",
       "[108 rows x 6 columns]"
      ]
     },
     "metadata": {},
     "output_type": "display_data"
    },
    {
     "name": "stdout",
     "output_type": "stream",
     "text": [
      "Penalty                          l1\n",
      "Alpha                        0.0050\n",
      "Learning Rate                0.0010\n",
      "Mean RMSE                    0.5120\n",
      "Standard Deviation of RMSE   0.0268\n",
      "Degree                            2\n",
      "Name: 0, dtype: object\n"
     ]
    }
   ],
   "source": [
    "results = []\n",
    "\n",
    "for degree in degrees:\n",
    "    for penalty in penalties:\n",
    "        for alpha in alphas:\n",
    "            for eta0 in eta0s:\n",
    "                sgd_pipeline = Pipeline(\n",
    "                    steps = preprocessing_pipeline.steps + [\n",
    "                        ('poly', PolynomialFeatures(degree, include_bias=False)),\n",
    "                        (\n",
    "                            'model', SGDRegressor\n",
    "                            (\n",
    "                                penalty=penalty,\n",
    "                                alpha=alpha,\n",
    "                                eta0=eta0,\n",
    "                                learning_rate='constant',\n",
    "                                shuffle=True,\n",
    "                                max_iter=5000,  \n",
    "                                tol=1e-4,\n",
    "                                random_state=random_state\n",
    "                            )\n",
    "                        )\n",
    "                    ]\n",
    "                )\n",
    "                rmse_values = -cross_val_score(sgd_pipeline, features_training, label_training, cv=cross_validator , scoring='neg_root_mean_squared_error')\n",
    "                \n",
    "                results.append({\n",
    "                    'Penalty': penalty,\n",
    "                    'Alpha': alpha,\n",
    "                    'Learning Rate': eta0,\n",
    "                    'Mean RMSE': rmse_values.mean(),\n",
    "                    'Standard Deviation of RMSE':  rmse_values.std(),\n",
    "                    'Degree': degree\n",
    "                })\n",
    "            \n",
    "results = pandas.DataFrame(results).sort_values('Mean RMSE').reset_index(drop=True)\n",
    "optimal_configuration = results.iloc[0]\n",
    "\n",
    "display(results)\n",
    "print(optimal_configuration)"
   ]
  },
  {
   "cell_type": "code",
   "execution_count": 48,
   "id": "b9153339",
   "metadata": {},
   "outputs": [
    {
     "name": "stdout",
     "output_type": "stream",
     "text": [
      "RMSE Values: [0.5596 0.4973 0.4913 0.495 ]\n",
      "Mean RMSE: 0.5108\n",
      "Standard Deviation of RMSE: 0.0283\n"
     ]
    }
   ],
   "source": [
    "pipeline = Pipeline(\n",
    "    steps=preprocessing_pipeline.steps + [\n",
    "        ('poly', PolynomialFeatures(optimal_configuration['Degree'], include_bias=False)),\n",
    "        ('model', SGDRegressor(\n",
    "            penalty=optimal_configuration['Penalty'],\n",
    "            alpha=optimal_configuration['Alpha'],\n",
    "            eta0=optimal_configuration['Learning Rate'],\n",
    "            learning_rate='adaptive',        \n",
    "            random_state=random_state,\n",
    "            max_iter=5000,\n",
    "            tol=1e-4,\n",
    "            shuffle=True\n",
    "        ))\n",
    "    ]\n",
    ")\n",
    "\n",
    "rmse_values = -cross_val_score(\n",
    "                pipeline, \n",
    "                features_training, \n",
    "                label_training, \n",
    "                cv=cross_validator, \n",
    "                scoring='neg_root_mean_squared_error'\n",
    "            )\n",
    "\n",
    "print(f'RMSE Values: {numpy.round(rmse_values, 4)}')\n",
    "print(f'Mean RMSE: {rmse_values.mean():{'.4f'}}')\n",
    "print(f'Standard Deviation of RMSE: {rmse_values.std():{'.4f'}}')"
   ]
  },
  {
   "cell_type": "markdown",
   "id": "1b596223",
   "metadata": {},
   "source": [
    "# **RMSE over Polynomial Degree**"
   ]
  },
  {
   "cell_type": "code",
   "execution_count": 49,
   "id": "7ec69b9e",
   "metadata": {},
   "outputs": [
    {
     "data": {
      "image/png": "[encoded data removed]",
      "text/plain": [
       "<Figure size 750x500 with 1 Axes>"
      ]
     },
     "metadata": {},
     "output_type": "display_data"
    }
   ],
   "source": [
    "aggregated_results = results.groupby('Degree')['Mean RMSE'].min().reset_index()\n",
    "\n",
    "plot.figure(figsize=(7.5, 5))\n",
    "plot.plot(aggregated_results['Degree'], aggregated_results['Mean RMSE'], marker='o', linestyle='-', color='b', label='Mean RMSE')\n",
    "plot.xlabel('Degree')\n",
    "plot.ylabel('RMSE')\n",
    "plot.grid(True)\n",
    "plot.legend()\n",
    "plot.show()"
   ]
  },
  {
   "cell_type": "markdown",
   "id": "7cc5956a",
   "metadata": {},
   "source": [
    "# **Training and Validation Loss Over Epochs**"
   ]
  },
  {
   "cell_type": "code",
   "execution_count": 50,
   "id": "a19f2516",
   "metadata": {},
   "outputs": [
    {
     "data": {
      "image/png": "[encoded data removed]",
      "text/plain": [
       "<Figure size 1000x600 with 1 Axes>"
      ]
     },
     "metadata": {},
     "output_type": "display_data"
    }
   ],
   "source": [
    "X_training, X_testing, y_training, y_testing = train_test_split(\n",
    "    features_training, label_training, test_size=0.2, random_state=random_state\n",
    ")\n",
    "\n",
    "sgd_pipeline = Pipeline(\n",
    "    steps=preprocessing_pipeline.steps + [\n",
    "        ('poly', PolynomialFeatures(optimal_configuration['Degree'], include_bias=False)),\n",
    "        ('model', SGDRegressor(\n",
    "            penalty=optimal_configuration['Penalty'],\n",
    "            alpha=optimal_configuration['Alpha'],\n",
    "            eta0=optimal_configuration['Learning Rate'],\n",
    "            learning_rate='constant',\n",
    "            shuffle=True,\n",
    "            tol=None,\n",
    "            max_iter=1, \n",
    "            warm_start=True,\n",
    "            random_state=random_state\n",
    "        ))\n",
    "    ]\n",
    ")\n",
    "\n",
    "errors_training, errors_testing = [], []\n",
    "least_rmse = float('inf')\n",
    "minimum_epochs = None\n",
    "epochs_count = 100\n",
    "\n",
    "for epoch in range(1, epochs_count + 1):\n",
    "    sgd_pipeline.fit(X_training, y_training)\n",
    "    \n",
    "    predictions_training = sgd_pipeline.predict(X_training)\n",
    "    predictions_testing = sgd_pipeline.predict(X_testing)\n",
    "    \n",
    "    error_training = root_mean_squared_error(y_training, predictions_training)\n",
    "    error_testing = root_mean_squared_error(y_testing, predictions_testing)\n",
    "    \n",
    "    errors_training.append(error_training)\n",
    "    errors_testing.append(error_testing)\n",
    "    \n",
    "    if error_testing < least_rmse:\n",
    "        least_rmse, minimum_epochs = error_testing, epoch\n",
    "\n",
    "plot.figure(figsize=(10, 6))\n",
    "x_axis = range(1, epochs_count + 1)\n",
    "plot.plot(x_axis, errors_training, 'r-', marker='o', markevery=5, label='RMSE over Training Data')\n",
    "plot.plot(x_axis, errors_testing, 'b-', marker='s', markevery=5, label='RMSE over Testing Data')\n",
    "\n",
    "buffer = 0.125\n",
    "plot.ylim(min(errors_training + errors_testing) - buffer, max(errors_training + errors_testing) + buffer)\n",
    "\n",
    "plot.axhline(least_rmse, ls='--', alpha=0.5, label=f'Least RMSE = {least_rmse:.4f} @ epoch {minimum_epochs}')\n",
    "plot.scatter([minimum_epochs], [least_rmse], s=75, zorder=2)\n",
    "\n",
    "plot.xlabel('Number of Epochs')\n",
    "plot.ylabel('RMSE')\n",
    "plot.title('Training and Validation Loss Over Epochs')\n",
    "plot.grid(True)\n",
    "plot.legend()\n",
    "plot.show()\n"
   ]
  },
  {
   "cell_type": "markdown",
   "id": "abe2773c",
   "metadata": {},
   "source": [
    "# **Test Data Evaluation**"
   ]
  },
  {
   "cell_type": "code",
   "execution_count": 51,
   "id": "c374db68",
   "metadata": {},
   "outputs": [
    {
     "name": "stdout",
     "output_type": "stream",
     "text": [
      "RMSE using SGD: 0.5102099603121344\n",
      "RMSE using Ridge (Closed Form): 0.5013562419649283\n"
     ]
    }
   ],
   "source": [
    "features_testing = testing_data.drop(label_key, axis=1)\n",
    "label_testing = testing_data[label_key]\n",
    "\n",
    "sgd_pipeline = Pipeline(\n",
    "    steps=preprocessing_pipeline.steps + [\n",
    "        ('poly', PolynomialFeatures(optimal_configuration['Degree'], include_bias=False)),\n",
    "        ('model', SGDRegressor(\n",
    "            penalty=optimal_configuration['Penalty'],\n",
    "            alpha=optimal_configuration['Alpha'],\n",
    "            eta0=optimal_configuration['Learning Rate'],\n",
    "            learning_rate='adaptive',        \n",
    "            random_state=random_state,\n",
    "            max_iter=5000,\n",
    "            tol=1e-4,\n",
    "            shuffle=True\n",
    "        ))\n",
    "    ]\n",
    ")\n",
    "\n",
    "ridge_pipeline = Pipeline(\n",
    "    steps=preprocessing_pipeline.steps + [\n",
    "        ('poly', PolynomialFeatures(3, include_bias=False)),\n",
    "        ('model', Ridge(100))\n",
    "    ]\n",
    ")\n",
    "\n",
    "sgd_pipeline.fit(features_training, label_training)\n",
    "ridge_pipeline.fit(features_training, label_training)\n",
    "\n",
    "print(f'RMSE using SGD: {root_mean_squared_error(label_testing, sgd_pipeline.predict(features_testing))}')\n",
    "print(f'RMSE using Ridge (Closed Form): {root_mean_squared_error(label_testing, ridge_pipeline.predict(features_testing))}')"
   ]
  }
 ],
 "metadata": {
  "kernelspec": {
   "display_name": ".venv",
   "language": "python",
   "name": "python3"
  },
  "language_info": {
   "codemirror_mode": {
    "name": "ipython",
    "version": 3
   },
   "file_extension": ".py",
   "mimetype": "text/x-python",
   "name": "python",
   "nbconvert_exporter": "python",
   "pygments_lexer": "ipython3",
   "version": "3.13.7"
  }
 },
 "nbformat": 4,
 "nbformat_minor": 5
}
